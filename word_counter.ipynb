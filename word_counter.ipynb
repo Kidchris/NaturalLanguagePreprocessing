{
 "cells": [
  {
   "cell_type": "markdown",
   "metadata": {},
   "source": [
    "Abhijit Banerjee, the Indian-born American is the Nobel prize winner for the year 2019 in Economics. He retrieved a text from the web for his research work. Unfortunately, he was surprised to see there were many duplicate words present in the text. He is in need of a text which contains only unique words. Help Abhijit to write a python code to achieve this task without using inbuilt methods. If there are no duplicates, print the text as it is.\n",
    "\n",
    "Input Format:\n",
    "\n",
    "The first line contains the text. Assume there are no special characters in the text and the text contains words separated by spaces\n",
    "\n",
    "Output Format:\n",
    "\n",
    "In the first line, print the duplicate word and the number of times it occurs in the text, if any, separated by a space.\n",
    "\n",
    "In the next line, print the indices of the duplicate words in the text, with the first index being 0, separated by spaces(if more than one).\n",
    "\n",
    "Repeat the above two steps for other duplicate words, if any.\n",
    "\n",
    "In the last line, print the updated text containing unique words.\n",
    "\n",
    "If no duplicate words are found then just print the text as it is."
   ]
  },
  {
   "cell_type": "code",
   "execution_count": 101,
   "metadata": {},
   "outputs": [],
   "source": [
    "import string\n",
    "punct = string.punctuation\n",
    "\n",
    "table = str.maketrans(\"\", \"\", punct)\n",
    "def dup_counter(text):\n",
    "    words = {}\n",
    "    splitted = text.split()\n",
    "    for w in splitted:\n",
    "        words[w] = splitted.count(w)\n",
    "\n",
    "    print(words)\n",
    "\n",
    "def indexes(text):\n",
    "    ind = {}\n",
    "    splitted = text.split()\n",
    "    i = 0\n",
    "    indexes = []\n",
    "    for w in splitted:\n",
    "        indexes.append(i)\n",
    "        # to be implemented\n",
    "        i += 1\n",
    "    print(ind)  "
   ]
  },
  {
   "cell_type": "code",
   "execution_count": 102,
   "metadata": {},
   "outputs": [
    {
     "name": "stdout",
     "output_type": "stream",
     "text": [
      "{'Abhijit': 1, 'Banerjee,': 1, 'the': 3, 'Indian-born': 1, 'is': 6, 'American': 1, 'Nobel': 1, 'prize': 1, 'winner': 1, 'for': 1, 'year': 1, '2019': 1, 'in': 1, 'Economics': 1}\n",
      "{'Abhijit': 0, 'Banerjee,': 1, 'the': [16], 'Indian-born': 3, 'is': [10], 'American': 9, 'Nobel': 12, 'prize': 13, 'winner': 14, 'for': 15, 'year': 17, '2019': 18, 'in': 19, 'Economics': 20}\n"
     ]
    }
   ],
   "source": [
    "dup_counter(\"Abhijit Banerjee, the Indian-born is is is is is American is the Nobel prize winner for the year 2019 in Economics\")\n",
    "indexes(\"Abhijit Banerjee, the Indian-born is is is is is American is the Nobel prize winner for the year 2019 in Economics\")"
   ]
  },
  {
   "cell_type": "code",
   "execution_count": null,
   "metadata": {},
   "outputs": [],
   "source": []
  },
  {
   "cell_type": "code",
   "execution_count": 69,
   "metadata": {},
   "outputs": [
    {
     "data": {
      "text/plain": [
       "['__add__',\n",
       " '__class__',\n",
       " '__contains__',\n",
       " '__delattr__',\n",
       " '__delitem__',\n",
       " '__dir__',\n",
       " '__doc__',\n",
       " '__eq__',\n",
       " '__format__',\n",
       " '__ge__',\n",
       " '__getattribute__',\n",
       " '__getitem__',\n",
       " '__gt__',\n",
       " '__hash__',\n",
       " '__iadd__',\n",
       " '__imul__',\n",
       " '__init__',\n",
       " '__init_subclass__',\n",
       " '__iter__',\n",
       " '__le__',\n",
       " '__len__',\n",
       " '__lt__',\n",
       " '__mul__',\n",
       " '__ne__',\n",
       " '__new__',\n",
       " '__reduce__',\n",
       " '__reduce_ex__',\n",
       " '__repr__',\n",
       " '__reversed__',\n",
       " '__rmul__',\n",
       " '__setattr__',\n",
       " '__setitem__',\n",
       " '__sizeof__',\n",
       " '__str__',\n",
       " '__subclasshook__',\n",
       " 'append',\n",
       " 'clear',\n",
       " 'copy',\n",
       " 'count',\n",
       " 'extend',\n",
       " 'index',\n",
       " 'insert',\n",
       " 'pop',\n",
       " 'remove',\n",
       " 'reverse',\n",
       " 'sort']"
      ]
     },
     "execution_count": 69,
     "metadata": {},
     "output_type": "execute_result"
    }
   ],
   "source": [
    "dir(list)"
   ]
  }
 ],
 "metadata": {
  "interpreter": {
   "hash": "509d05def373b697fdb010a6aa02fbb88284043a56880425e3dd344f44325f75"
  },
  "kernelspec": {
   "display_name": "Python 3.8.8 64-bit ('base': conda)",
   "language": "python",
   "name": "python3"
  },
  "language_info": {
   "codemirror_mode": {
    "name": "ipython",
    "version": 3
   },
   "file_extension": ".py",
   "mimetype": "text/x-python",
   "name": "python",
   "nbconvert_exporter": "python",
   "pygments_lexer": "ipython3",
   "version": "3.8.8"
  },
  "orig_nbformat": 4
 },
 "nbformat": 4,
 "nbformat_minor": 2
}
