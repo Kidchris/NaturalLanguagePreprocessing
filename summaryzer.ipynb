{
 "cells": [
  {
   "cell_type": "code",
   "execution_count": 2,
   "metadata": {},
   "outputs": [
    {
     "name": "stderr",
     "output_type": "stream",
     "text": [
      "2022-01-03 14:03:58.319816: W tensorflow/stream_executor/platform/default/dso_loader.cc:64] Could not load dynamic library 'libcudart.so.11.0'; dlerror: libcudart.so.11.0: cannot open shared object file: No such file or directory\n",
      "2022-01-03 14:03:58.319896: I tensorflow/stream_executor/cuda/cudart_stub.cc:29] Ignore above cudart dlerror if you do not have a GPU set up on your machine.\n"
     ]
    }
   ],
   "source": [
    "import pandas as pd\n",
    "from string import punctuation\n",
    "from tensorflow.keras.preprocessing.text import Tokenizer\n",
    "from tensorflow.keras.preprocessing.sequence import pad_sequences\n",
    "import matplotlib.pyplot as plt\n",
    "from sklearn.model_selection import train_test_split\n",
    "import numpy as np\n",
    "import warnings\n",
    "pd.set_option(\"display.max_colwidth\", 250)\n",
    "warnings.filterwarnings(\"ignore\")"
   ]
  },
  {
   "cell_type": "code",
   "execution_count": 3,
   "metadata": {},
   "outputs": [],
   "source": [
    "table = str.maketrans(\"\", \"\", punctuation)\n"
   ]
  },
  {
   "cell_type": "markdown",
   "metadata": {},
   "source": [
    "#### Preprocessing the data\n",
    "- Remove Punctuation\n",
    "- Lower All the sentences\n",
    "- Remove Punctuations\n"
   ]
  },
  {
   "cell_type": "code",
   "execution_count": 4,
   "metadata": {},
   "outputs": [],
   "source": [
    "data  = pd.read_csv(\"./summary.csv\")"
   ]
  },
  {
   "cell_type": "code",
   "execution_count": 5,
   "metadata": {},
   "outputs": [],
   "source": [
    "contraction_mapping = {\"ain't\": \"is not\", \"aren't\": \"are not\",\"can't\": \"cannot\", \"'cause\": \"because\", \"could've\": \"could have\", \"couldn't\": \"could not\",\n",
    "\n",
    "                           \"didn't\": \"did not\", \"doesn't\": \"does not\", \"don't\": \"do not\", \"hadn't\": \"had not\", \"hasn't\": \"has not\", \"haven't\": \"have not\",\n",
    "\n",
    "                           \"he'd\": \"he would\",\"he'll\": \"he will\", \"he's\": \"he is\", \"how'd\": \"how did\", \"how'd'y\": \"how do you\", \"how'll\": \"how will\", \"how's\": \"how is\",\n",
    "\n",
    "                           \"I'd\": \"I would\", \"I'd've\": \"I would have\", \"I'll\": \"I will\", \"I'll've\": \"I will have\",\"I'm\": \"I am\", \"I've\": \"I have\", \"i'd\": \"i would\",\n",
    "\n",
    "                           \"i'd've\": \"i would have\", \"i'll\": \"i will\",  \"i'll've\": \"i will have\",\"i'm\": \"i am\", \"i've\": \"i have\", \"isn't\": \"is not\", \"it'd\": \"it would\",\n",
    "\n",
    "                           \"it'd've\": \"it would have\", \"it'll\": \"it will\", \"it'll've\": \"it will have\",\"it's\": \"it is\", \"let's\": \"let us\", \"ma'am\": \"madam\",\n",
    "\n",
    "                           \"mayn't\": \"may not\", \"might've\": \"might have\",\"mightn't\": \"might not\",\"mightn't've\": \"might not have\", \"must've\": \"must have\",\n",
    "\n",
    "                           \"mustn't\": \"must not\", \"mustn't've\": \"must not have\", \"needn't\": \"need not\", \"needn't've\": \"need not have\",\"o'clock\": \"of the clock\",\n",
    "\n",
    "                           \"oughtn't\": \"ought not\", \"oughtn't've\": \"ought not have\", \"shan't\": \"shall not\", \"sha'n't\": \"shall not\", \"shan't've\": \"shall not have\",\n",
    "\n",
    "                           \"she'd\": \"she would\", \"she'd've\": \"she would have\", \"she'll\": \"she will\", \"she'll've\": \"she will have\", \"she's\": \"she is\",\n",
    "\n",
    "                           \"should've\": \"should have\", \"shouldn't\": \"should not\", \"shouldn't've\": \"should not have\", \"so've\": \"so have\",\"so's\": \"so as\",\n",
    "\n",
    "                           \"this's\": \"this is\",\"that'd\": \"that would\", \"that'd've\": \"that would have\", \"that's\": \"that is\", \"there'd\": \"there would\",\n",
    "\n",
    "                           \"there'd've\": \"there would have\", \"there's\": \"there is\", \"here's\": \"here is\",\"they'd\": \"they would\", \"they'd've\": \"they would have\",\n",
    "\n",
    "                           \"they'll\": \"they will\", \"they'll've\": \"they will have\", \"they're\": \"they are\", \"they've\": \"they have\", \"to've\": \"to have\",\n",
    "\n",
    "                           \"wasn't\": \"was not\", \"we'd\": \"we would\", \"we'd've\": \"we would have\", \"we'll\": \"we will\", \"we'll've\": \"we will have\", \"we're\": \"we are\",\n",
    "\n",
    "                           \"we've\": \"we have\", \"weren't\": \"were not\", \"what'll\": \"what will\", \"what'll've\": \"what will have\", \"what're\": \"what are\",\n",
    "\n",
    "                           \"what's\": \"what is\", \"what've\": \"what have\", \"when's\": \"when is\", \"when've\": \"when have\", \"where'd\": \"where did\", \"where's\": \"where is\",\n",
    "\n",
    "                           \"where've\": \"where have\", \"who'll\": \"who will\", \"who'll've\": \"who will have\", \"who's\": \"who is\", \"who've\": \"who have\",\n",
    "\n",
    "                           \"why's\": \"why is\", \"why've\": \"why have\", \"will've\": \"will have\", \"won't\": \"will not\", \"won't've\": \"will not have\",\n",
    "\n",
    "                           \"would've\": \"would have\", \"wouldn't\": \"would not\", \"wouldn't've\": \"would not have\", \"y'all\": \"you all\",\n",
    "\n",
    "                           \"y'all'd\": \"you all would\",\"y'all'd've\": \"you all would have\",\"y'all're\": \"you all are\",\"y'all've\": \"you all have\",\n",
    "\n",
    "                           \"you'd\": \"you would\", \"you'd've\": \"you would have\", \"you'll\": \"you will\", \"you'll've\": \"you will have\",\n",
    "\n",
    "                           \"you're\": \"you are\", \"you've\": \"you have\"}"
   ]
  },
  {
   "cell_type": "code",
   "execution_count": 6,
   "metadata": {},
   "outputs": [],
   "source": [
    "def preprocess(input_list, table=table) :\n",
    "    output_list = []\n",
    "    for row in input_list:\n",
    "        row_list = \"\"\n",
    "        for contract_k, contract_v in contraction_mapping.items():\n",
    "            row.replace(contract_k, contract_v)\n",
    "        for word in row.split():\n",
    "            # if word not in stop_words:\n",
    "            word = word.translate(table)\n",
    "            row_list += word.lower() + \" \"\n",
    "        output_list.append(row_list.strip())\n",
    "        \n",
    "    return np.array(output_list)"
   ]
  },
  {
   "cell_type": "code",
   "execution_count": 7,
   "metadata": {},
   "outputs": [],
   "source": [
    "headlines = preprocess(data.headlines.to_list())\n",
    "text = preprocess(data.text.to_list())\n",
    "\n",
    "data.headlines = headlines\n",
    "data.text = text\n",
    "data.headlines = data.headlines.apply(lambda x: \"_START \" + x + \" _END\")"
   ]
  },
  {
   "cell_type": "code",
   "execution_count": 8,
   "metadata": {},
   "outputs": [
    {
     "name": "stdout",
     "output_type": "stream",
     "text": [
      "Review: saurav kant an alumnus of upgrad and iiitbs pg program in machine learning and artificial intelligence was a sr systems engineer at infosys with almost 5 years of work experience the program and upgrads 360degree career support helped him transition to a data scientist at tech mahindra with 90 salary hike upgrads online power learning has powered 3 lakh careers\n",
      "Summary: _START upgrad learner switches to career in ml  al with 90 salary hike _END\n",
      "\n",
      "\n",
      "Review: kunal shahs credit card bill payment platform cred gave users a chance to win free food from swiggy for one year pranav kaushik a delhi techie bagged this reward after spending 2000 cred coins users get one cred coin per rupee of bill paid which can be used to avail rewards from brands like ixigo bookmyshow ubereats cultfit and more\n",
      "Summary: _START delhi techie wins free food from swiggy for one year on cred _END\n",
      "\n",
      "\n",
      "Review: new zealand defeated india by 8 wickets in the fourth odi at hamilton on thursday to win their first match of the fivematch odi series india lost an international match under rohit sharmas captaincy after 12 consecutive victories dating back to march 2018 the match witnessed india getting all out for 92 their seventh lowest total in odi cricket history\n",
      "Summary: _START new zealand end rohit sharmaled indias 12match winning streak _END\n",
      "\n",
      "\n",
      "Review: with aegon life iterm insurance plan customers can enjoy tax benefits on your premiums paid and save up to â¹46800 on taxes the plan provides life cover up to the age of 100 years also customers have options to insure against critical illnesses disability and accidental death benefit rider with a life cover up to the age of 80 years\n",
      "Summary: _START aegon life iterm insurance plan helps customers save tax _END\n",
      "\n",
      "\n",
      "Review: speaking about the sexual harassment allegations against rajkumar hiran i sonam kapoor said ive known hirani for many yearswhat if its not true the metoo movement will get derailed in the metoo movement i always believe a woman but in this case we need to reserve our judgment she added hirani has been accused by an assistant who worked in sanju\n",
      "Summary: _START have known hirani for yrs what if metoo claims are not true sonam _END\n",
      "\n",
      "\n"
     ]
    }
   ],
   "source": [
    "for i in range(5):\n",
    "    print(\"Review:\",data['text'][i])\n",
    "    print(\"Summary:\",data['headlines'][i])\n",
    "    print(\"\\n\")"
   ]
  },
  {
   "cell_type": "code",
   "execution_count": 9,
   "metadata": {},
   "outputs": [],
   "source": [
    "del headlines\n",
    "del text"
   ]
  },
  {
   "cell_type": "code",
   "execution_count": 10,
   "metadata": {},
   "outputs": [
    {
     "data": {
      "image/png": "[encoded data removed]",
      "text/plain": [
       "<Figure size 432x288 with 2 Axes>"
      ]
     },
     "metadata": {
      "needs_background": "light"
     },
     "output_type": "display_data"
    }
   ],
   "source": [
    "text_word_count = []\n",
    "summary_word_count = []\n",
    "\n",
    "# populate the lists with sentence lengths\n",
    "for i in data['text']:\n",
    "      text_word_count.append(len(i.split()))\n",
    "\n",
    "for i in data['headlines']:\n",
    "      summary_word_count.append(len(i.split()))\n",
    "\n",
    "length_df = pd.DataFrame({'text':text_word_count, 'summary':summary_word_count})\n",
    "length_df.hist(bins = 30)\n",
    "plt.show()"
   ]
  },
  {
   "cell_type": "code",
   "execution_count": 11,
   "metadata": {},
   "outputs": [],
   "source": [
    "train, test = train_test_split(data, test_size=0.3, random_state=42)"
   ]
  },
  {
   "cell_type": "code",
   "execution_count": 12,
   "metadata": {},
   "outputs": [],
   "source": [
    "def tokenizer(tok_object, x):\n",
    "    all_ = x\n",
    "    tk = tok_object\n",
    "    tk.fit_on_texts(all_)\n",
    "    return tk\n",
    "\n",
    "x_tok = tokenizer(Tokenizer(), train.text.to_list())\n",
    "y_tok = tokenizer(Tokenizer(), train.headlines.to_list())"
   ]
  },
  {
   "cell_type": "code",
   "execution_count": 13,
   "metadata": {},
   "outputs": [],
   "source": [
    "# TOkenize the train data\n",
    "def tokenize(input_, pad_x_size:int = 70, pad_y_size:int = 20, x_tok=x_tok, y_tok=y_tok):\n",
    "    \n",
    "    y = input_.headlines.to_numpy()\n",
    "    x = input_.text.to_numpy()\n",
    "    \n",
    "    headlines = y_tok.texts_to_sequences(np.array(y))\n",
    "    text = x_tok.texts_to_sequences(np.array(x))\n",
    "    \n",
    "    headlines = pad_sequences(headlines, padding=\"post\", maxlen=pad_y_size)\n",
    "    text = pad_sequences(text, padding=\"post\", maxlen=pad_x_size)\n",
    "    \n",
    "    return headlines, text"
   ]
  },
  {
   "cell_type": "code",
   "execution_count": 14,
   "metadata": {},
   "outputs": [],
   "source": [
    "headlines_train, text_train = tokenize(train)\n",
    "headlines_test, text_test = tokenize(test)"
   ]
  },
  {
   "cell_type": "code",
   "execution_count": 15,
   "metadata": {},
   "outputs": [],
   "source": [
    "assert len(headlines_test) == len(text_test)\n",
    "assert len(headlines_train) == len(text_train)"
   ]
  },
  {
   "cell_type": "markdown",
   "metadata": {},
   "source": [
    "#### Build The model and train the dataset"
   ]
  },
  {
   "cell_type": "code",
   "execution_count": 16,
   "metadata": {},
   "outputs": [],
   "source": [
    "y_voc_size  =   len(y_tok.word_index) +1\n",
    "x_voc_size  =   len(x_tok.word_index) +1"
   ]
  },
  {
   "cell_type": "markdown",
   "metadata": {},
   "source": [
    "### Build the model"
   ]
  },
  {
   "cell_type": "code",
   "execution_count": 17,
   "metadata": {},
   "outputs": [],
   "source": [
    "from tensorflow.keras.models import Model\n",
    "from tensorflow.keras.layers import ( Embedding, LSTM, RepeatVector, TimeDistributed, \n",
    "                                    Dense, Input, Bidirectional, Concatenate)\n",
    "from tensorflow.keras.callbacks import ModelCheckpoint, EarlyStopping\n",
    "from attention import AttentionLayer\n",
    "from tensorflow.keras.utils import plot_model"
   ]
  },
  {
   "cell_type": "markdown",
   "metadata": {},
   "source": [
    "plot_model(model)"
   ]
  },
  {
   "cell_type": "code",
   "execution_count": 23,
   "metadata": {},
   "outputs": [],
   "source": [
    "model.compile(loss = \"sparse_categorical_crossentropy\", optimizer =\"rmsprop\")\n",
    "es = EarlyStopping(monitor=\"val_loss\", mode=\"min\", verbose=1)\n",
    "checkpoint = ModelCheckpoint(\"./temp/model_best.h5\", save_best_only= True)"
   ]
  },
  {
   "cell_type": "code",
   "execution_count": null,
   "metadata": {},
   "outputs": [],
   "source": [
    "# Build a little Seq2Seq Model:\n",
    "# encoder_inputs = Inputs(x_voc_size, None)\n",
    "# encoder_embedding = Embedding(x_voc_size, 512, input_length=maxlen, trainable=True)(encoder_inputs)\n",
    "# encoder_lstm = LSTM(dim, return_state=True)\n",
    "# _, encoder_state_h, encoder_state_c = encoder_lstm(encoder_lstm)\n",
    "# encoder_states = [encoder_state_h, encoder_state_c]\n",
    "# \n",
    "# decoder_inputs = Inputs(None, y_voc_size)\n",
    "# decoder_lstm = LSTM(dim, return_sequences=True, return_state=True)\n",
    "# decoder_outputs, _, _ = decoder_lstm(decoder_inputs, initial_state= encoder_states)\n",
    "# decoder_dense = Dense(y_voc_size, activation= \"softmax\")\n",
    "# decoder_outputs = decoder_dense(decoder_ouputs)\n",
    "# training_model = Model([encoder_inputs, decoder_inputs], decoder_outputs)\n",
    "# \n",
    "#\n",
    "#\n",
    "#\n",
    "#\n",
    "#\n",
    "#\n",
    "#\n",
    "#\n",
    "#\n",
    "#\n"
   ]
  },
  {
   "cell_type": "code",
   "execution_count": null,
   "metadata": {},
   "outputs": [],
   "source": []
  }
 ],
 "metadata": {
  "interpreter": {
   "hash": "509d05def373b697fdb010a6aa02fbb88284043a56880425e3dd344f44325f75"
  },
  "kernelspec": {
   "display_name": "Python 3.8.8 64-bit ('base': conda)",
   "language": "python",
   "name": "python3"
  },
  "language_info": {
   "codemirror_mode": {
    "name": "ipython",
    "version": 3
   },
   "file_extension": ".py",
   "mimetype": "text/x-python",
   "name": "python",
   "nbconvert_exporter": "python",
   "pygments_lexer": "ipython3",
   "version": "3.8.8"
  },
  "orig_nbformat": 4
 },
 "nbformat": 4,
 "nbformat_minor": 2
}
