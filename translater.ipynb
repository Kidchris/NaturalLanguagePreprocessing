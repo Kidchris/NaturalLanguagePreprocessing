{
 "cells": [
  {
   "cell_type": "code",
   "execution_count": 1,
   "source": [
    "import numpy as np\n",
    "import string"
   ],
   "outputs": [],
   "metadata": {}
  },
  {
   "cell_type": "code",
   "execution_count": 85,
   "source": [
    "\n",
    "\n",
    "def open_tsv_return_list(filename= \"./English-French.tsv\", preview_length= 20):\n",
    "    \"\"\"\n",
    "    Open a Tsv file and return a list -- \n",
    "    The return type is a list of strings mapping source language to target language\n",
    "    eg:(\"English --> French\")\n",
    "    Params : \n",
    "            filename = the filename of the file to open\n",
    "            preview_length = the length of the elements to see\n",
    "    \"\"\"\n",
    "    with open(filename, \"r\", encoding=\"utf-8\") as f:\n",
    "        content = f.read().replace(\"\\u202f\", \"\").lower().encode(\"utf-8\")\n",
    "\n",
    "    content = content.decode()\n",
    "    content = content.split(\"\\n\")\n",
    "    print(content[:preview_length])\n",
    "    return content"
   ],
   "outputs": [],
   "metadata": {}
  },
  {
   "cell_type": "code",
   "execution_count": 86,
   "source": [
    "def pair_value(content):\n",
    "    \"\"\"\n",
    "    Take the return value of tsv pair values and return \n",
    "    a list in the right format.\n",
    "    \"\"\"\n",
    "    trad = list()\n",
    "    for sentences in content:\n",
    "        pair = sentences.split(\"\\t\")\n",
    "        pair_content = list()\n",
    "        i = 1\n",
    "        for sent in pair:\n",
    "            if (i==1) or (i==3):\n",
    "                pass\n",
    "            else:\n",
    "                pair_content.append(sent)\n",
    "            i = i+1\n",
    "        trad.append(pair_content)\n",
    "    return trad\n"
   ],
   "outputs": [],
   "metadata": {}
  },
  {
   "cell_type": "code",
   "execution_count": 87,
   "source": [
    "\n",
    "def clean_pair(sentences) :\n",
    "    sign = '!\"#$%&()*+,./:;<=>?@[\\\\]_`{|}~'\n",
    "    table = str.maketrans('', '', sign)\n",
    "\n",
    "    clean_doc = list()\n",
    "\n",
    "    for pair_sent in sentences:\n",
    "        sub_sentence = list()\n",
    "        for sentence in pair_sent:\n",
    "            sentence = sentence.split()\n",
    "            words = [w.translate(table) for w in sentence]\n",
    "            sub_sentence.append(\" \".join(words))\n",
    "        clean_doc.append(sub_sentence)\n",
    "    return clean_doc"
   ],
   "outputs": [],
   "metadata": {}
  },
  {
   "cell_type": "code",
   "execution_count": 88,
   "source": [
    "content = open_tsv_return_list()\n",
    "translations = pair_value(content)\n",
    "clean_doc = clean_pair(translations)"
   ],
   "outputs": [
    {
     "output_type": "stream",
     "name": "stdout",
     "text": [
      "[\"\\ufeff1276\\tlet's try something.\\t3091\\tessayons quelque chose!\", \"1276\\tlet's try something.\\t456963\\ttentons quelque chose!\", '1277\\ti have to go to sleep.\\t373908\\tje dois aller dormir.', \"1280\\ttoday is june 18th and it is muiriel's birthday!\\t3095\\taujourd'hui nous sommes le 18 juin et c'est l'anniversaire de muiriel!\", \"1280\\ttoday is june 18th and it is muiriel's birthday!\\t696081\\taujourd'hui c'est le 18 juin, et c'est l'anniversaire de muiriel.\", '1282\\tmuiriel is 20 now.\\t3097\\tmuiriel a 20 ans maintenant.', '1283\\tthe password is \"muiriel\".\\t3098\\tle mot de passe est « muiriel ».', '1284\\ti will be back soon.\\t3099\\tje serai bientôt de retour.', '1284\\ti will be back soon.\\t11864\\tje serai de retour dans une minute.', '1284\\ti will be back soon.\\t530392\\tje reviens tout de suite.', '1284\\ti will be back soon.\\t895812\\tje reviens vite.', '1284\\ti will be back soon.\\t911747\\tje reviens de suite.', \"1286\\ti'm at a loss for words.\\t3101\\tj'en perds mes mots.\", \"1286\\ti'm at a loss for words.\\t497820\\tles mots me manquent.\", \"1286\\ti'm at a loss for words.\\t965413\\tje ne trouve pas les mots.\", '1287\\tthis is never going to end.\\t3102\\tça ne va jamais finir.', \"1287\\tthis is never going to end.\\t965410\\tça n'en finira jamais.\", \"1288\\ti just don't know what to say.\\t3103\\tje ne sais simplement pas quoi dire...\", \"1288\\ti just don't know what to say.\\t3665344\\tje ne sais pas quoi dire, tout simplement.\", '1289\\tthat was an evil bunny.\\t3104\\tc’était un méchant lapin.']\n"
     ]
    }
   ],
   "metadata": {}
  },
  {
   "cell_type": "code",
   "execution_count": 89,
   "source": [
    "english_sentences = []\n",
    "for sentence_pair in clean_doc:\n",
    "    en = sentence_pair[0] if len(sentence_pair)>1 else \"\"\n",
    "    english_sentences.append(en)\n",
    "\n",
    "french_sentences = []        \n",
    "for sentence_pair in clean_doc:\n",
    "    fr = sentence_pair[-1] if len(sentence_pair)>1 else \"\"\n",
    "    french_sentences.append(fr)\n",
    "    "
   ],
   "outputs": [],
   "metadata": {}
  },
  {
   "cell_type": "code",
   "execution_count": 90,
   "source": [
    "# Save content to English text only -->en_file \n",
    "def sentences_saver_eng(en_file= \"english_sentences.txt\"):\n",
    "    file = open(en_file, \"w\")\n",
    "    for line in english_sentences:\n",
    "        file.write(line+\"\\n\") \n",
    "    file.close()\n",
    "    \n",
    "# Save content to French text only -->fr_file \n",
    "def sentences_saver_fr(fr_file= \"french_sentences.txt\"):\n",
    "    file = open(fr_file, \"w\")\n",
    "    for line in french_sentences:\n",
    "        file.write(line+\"\\n\")\n",
    "    file.close()\n"
   ],
   "outputs": [],
   "metadata": {}
  },
  {
   "cell_type": "code",
   "execution_count": null,
   "source": [],
   "outputs": [],
   "metadata": {}
  },
  {
   "cell_type": "code",
   "execution_count": null,
   "source": [],
   "outputs": [],
   "metadata": {}
  },
  {
   "cell_type": "code",
   "execution_count": null,
   "source": [],
   "outputs": [],
   "metadata": {}
  },
  {
   "cell_type": "code",
   "execution_count": null,
   "source": [],
   "outputs": [],
   "metadata": {}
  },
  {
   "cell_type": "code",
   "execution_count": null,
   "source": [],
   "outputs": [],
   "metadata": {}
  }
 ],
 "metadata": {
  "orig_nbformat": 4,
  "language_info": {
   "name": "python",
   "version": "3.8.8",
   "mimetype": "text/x-python",
   "codemirror_mode": {
    "name": "ipython",
    "version": 3
   },
   "pygments_lexer": "ipython3",
   "nbconvert_exporter": "python",
   "file_extension": ".py"
  },
  "kernelspec": {
   "name": "python3",
   "display_name": "Python 3.8.8 64-bit ('base': conda)"
  },
  "interpreter": {
   "hash": "61f16b98c194273433d28da8ad4eebd31a866a26d2fd43b3ba83f196243e57b5"
  }
 },
 "nbformat": 4,
 "nbformat_minor": 2
}